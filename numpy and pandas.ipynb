{
 "cells": [
  {
   "cell_type": "code",
   "execution_count": 1,
   "id": "cc02c4d2",
   "metadata": {},
   "outputs": [],
   "source": [
    "### numpy-play with (arrays)numbers\n",
    "###pandas-dataset\n",
    "###seaborn-data visualization\n",
    "###matplotlib-data visualization\n",
    "###scripy-statistical\n",
    "###sklearn-algorithm\n"
   ]
  },
  {
   "cell_type": "markdown",
   "id": "3aaa5ea0",
   "metadata": {},
   "source": [
    "# numpy package for multidimensional"
   ]
  },
  {
   "cell_type": "code",
   "execution_count": 2,
   "id": "c6027b77",
   "metadata": {},
   "outputs": [],
   "source": [
    "import numpy as np"
   ]
  },
  {
   "cell_type": "code",
   "execution_count": 3,
   "id": "e31249aa",
   "metadata": {},
   "outputs": [
    {
     "data": {
      "text/plain": [
       "array([2, 4, 6])"
      ]
     },
     "execution_count": 3,
     "metadata": {},
     "output_type": "execute_result"
    }
   ],
   "source": [
    "list=[2,4,6]\n",
    "np.array(list)"
   ]
  },
  {
   "cell_type": "code",
   "execution_count": 4,
   "id": "ef1b9ca9",
   "metadata": {},
   "outputs": [
    {
     "data": {
      "text/plain": [
       "array([[2, 4, 6],\n",
       "       [2, 5, 7],\n",
       "       [3, 7, 9]])"
      ]
     },
     "execution_count": 4,
     "metadata": {},
     "output_type": "execute_result"
    }
   ],
   "source": [
    "list1=[[2,4,6],[2,5,7],[3,7,9]]\n",
    "np.array(list1)"
   ]
  },
  {
   "cell_type": "code",
   "execution_count": 6,
   "id": "04be6db3",
   "metadata": {},
   "outputs": [
    {
     "data": {
      "text/plain": [
       "array([ 5,  6,  7,  8,  9, 10, 11, 12, 13, 14, 15, 16, 17, 18, 19])"
      ]
     },
     "execution_count": 6,
     "metadata": {},
     "output_type": "execute_result"
    }
   ],
   "source": [
    "np.arange(5,20)"
   ]
  },
  {
   "cell_type": "code",
   "execution_count": 7,
   "id": "f1fbe3c0",
   "metadata": {},
   "outputs": [
    {
     "data": {
      "text/plain": [
       "array([ 1,  7, 13, 19, 25, 31])"
      ]
     },
     "execution_count": 7,
     "metadata": {},
     "output_type": "execute_result"
    }
   ],
   "source": [
    "np.arange(1,37,6)"
   ]
  },
  {
   "cell_type": "code",
   "execution_count": 8,
   "id": "97dbd264",
   "metadata": {},
   "outputs": [
    {
     "data": {
      "text/plain": [
       "array([0., 0., 0., 0., 0., 0., 0., 0., 0., 0.])"
      ]
     },
     "execution_count": 8,
     "metadata": {},
     "output_type": "execute_result"
    }
   ],
   "source": [
    "np.zeros(10)"
   ]
  },
  {
   "cell_type": "code",
   "execution_count": 10,
   "id": "920a182f",
   "metadata": {},
   "outputs": [
    {
     "data": {
      "text/plain": [
       "array([1., 1., 1., 1., 1., 1., 1., 1., 1., 1.])"
      ]
     },
     "execution_count": 10,
     "metadata": {},
     "output_type": "execute_result"
    }
   ],
   "source": [
    "np.ones(10)"
   ]
  },
  {
   "cell_type": "code",
   "execution_count": 12,
   "id": "316977a1",
   "metadata": {},
   "outputs": [
    {
     "data": {
      "text/plain": [
       "array([0. , 0.5, 1. , 1.5, 2. ])"
      ]
     },
     "execution_count": 12,
     "metadata": {},
     "output_type": "execute_result"
    }
   ],
   "source": [
    "np.linspace(0,2,5)"
   ]
  },
  {
   "cell_type": "code",
   "execution_count": 14,
   "id": "6d663542",
   "metadata": {},
   "outputs": [
    {
     "data": {
      "text/plain": [
       "array([[1., 0., 0., 0., 0., 0., 0., 0., 0., 0.],\n",
       "       [0., 1., 0., 0., 0., 0., 0., 0., 0., 0.],\n",
       "       [0., 0., 1., 0., 0., 0., 0., 0., 0., 0.],\n",
       "       [0., 0., 0., 1., 0., 0., 0., 0., 0., 0.],\n",
       "       [0., 0., 0., 0., 1., 0., 0., 0., 0., 0.],\n",
       "       [0., 0., 0., 0., 0., 1., 0., 0., 0., 0.],\n",
       "       [0., 0., 0., 0., 0., 0., 1., 0., 0., 0.],\n",
       "       [0., 0., 0., 0., 0., 0., 0., 1., 0., 0.],\n",
       "       [0., 0., 0., 0., 0., 0., 0., 0., 1., 0.],\n",
       "       [0., 0., 0., 0., 0., 0., 0., 0., 0., 1.]])"
      ]
     },
     "execution_count": 14,
     "metadata": {},
     "output_type": "execute_result"
    }
   ],
   "source": [
    "np.eye(10,dtype=int)"
   ]
  },
  {
   "cell_type": "code",
   "execution_count": 15,
   "id": "cf613a17",
   "metadata": {},
   "outputs": [
    {
     "name": "stdout",
     "output_type": "stream",
     "text": [
      "68\n"
     ]
    }
   ],
   "source": [
    "print(np.random.randint(0,100))"
   ]
  },
  {
   "cell_type": "code",
   "execution_count": 16,
   "id": "dfba2035",
   "metadata": {},
   "outputs": [
    {
     "data": {
      "text/plain": [
       "array([ 1,  2, 19, 11, 15, 14, 12,  8,  3, 18, 15,  6,  8, 17,  6,  2,  6,\n",
       "       17, 10,  5, 12, 11, 14, 11,  2,  7, 17,  9, 16, 11, 11, 11,  6, 16,\n",
       "        3,  5, 10, 13, 10,  6, 18,  1,  1,  5, 16,  8, 10, 12, 19,  6])"
      ]
     },
     "execution_count": 16,
     "metadata": {},
     "output_type": "execute_result"
    }
   ],
   "source": [
    "array=np.random.randint(1,20,50)\n",
    "array"
   ]
  },
  {
   "cell_type": "code",
   "execution_count": 19,
   "id": "b0171d3d",
   "metadata": {},
   "outputs": [
    {
     "data": {
      "text/plain": [
       "array([[ 1,  2, 19, 11, 15, 14, 12,  8,  3, 18],\n",
       "       [15,  6,  8, 17,  6,  2,  6, 17, 10,  5],\n",
       "       [12, 11, 14, 11,  2,  7, 17,  9, 16, 11],\n",
       "       [11, 11,  6, 16,  3,  5, 10, 13, 10,  6],\n",
       "       [18,  1,  1,  5, 16,  8, 10, 12, 19,  6]])"
      ]
     },
     "execution_count": 19,
     "metadata": {},
     "output_type": "execute_result"
    }
   ],
   "source": [
    "array.reshape(5,10)"
   ]
  },
  {
   "cell_type": "code",
   "execution_count": 20,
   "id": "c42b3b91",
   "metadata": {},
   "outputs": [
    {
     "data": {
      "text/plain": [
       "19"
      ]
     },
     "execution_count": 20,
     "metadata": {},
     "output_type": "execute_result"
    }
   ],
   "source": [
    "array.max()"
   ]
  },
  {
   "cell_type": "code",
   "execution_count": 21,
   "id": "69845e90",
   "metadata": {},
   "outputs": [
    {
     "data": {
      "text/plain": [
       "array([ 1,  2, 19, 11, 15, 14, 12,  8,  3, 18, 15,  6,  8, 17,  6,  2,  6,\n",
       "       17, 10,  5, 12, 11, 14, 11,  2,  7, 17,  9, 16, 11, 11, 11,  6, 16,\n",
       "        3,  5, 10, 13, 10,  6, 18,  1,  1,  5, 16,  8, 10, 12, 19,  6])"
      ]
     },
     "execution_count": 21,
     "metadata": {},
     "output_type": "execute_result"
    }
   ],
   "source": [
    "array.T\n"
   ]
  },
  {
   "cell_type": "code",
   "execution_count": 22,
   "id": "e6a50b61",
   "metadata": {},
   "outputs": [
    {
     "data": {
      "text/plain": [
       "2"
      ]
     },
     "execution_count": 22,
     "metadata": {},
     "output_type": "execute_result"
    }
   ],
   "source": [
    "array.argmax()"
   ]
  },
  {
   "cell_type": "code",
   "execution_count": 27,
   "id": "7112d75c",
   "metadata": {},
   "outputs": [
    {
     "data": {
      "text/plain": [
       "array([1, 1, 2, 4, 1])"
      ]
     },
     "execution_count": 27,
     "metadata": {},
     "output_type": "execute_result"
    }
   ],
   "source": [
    "array=np.random.randint(1,5,5)\n",
    "array"
   ]
  },
  {
   "cell_type": "code",
   "execution_count": 28,
   "id": "6a5e1ade",
   "metadata": {},
   "outputs": [
    {
     "data": {
      "text/plain": [
       "array([1, 2, 4])"
      ]
     },
     "execution_count": 28,
     "metadata": {},
     "output_type": "execute_result"
    }
   ],
   "source": [
    "array[1:4]"
   ]
  },
  {
   "cell_type": "code",
   "execution_count": 29,
   "id": "f1b83ee3",
   "metadata": {},
   "outputs": [
    {
     "data": {
      "text/plain": [
       "array([ 1, 10,  2,  4,  1])"
      ]
     },
     "execution_count": 29,
     "metadata": {},
     "output_type": "execute_result"
    }
   ],
   "source": [
    "array[1:2]=10\n",
    "array"
   ]
  },
  {
   "cell_type": "code",
   "execution_count": 30,
   "id": "267b437c",
   "metadata": {},
   "outputs": [
    {
     "data": {
      "text/plain": [
       "array([20, 20, 20, 20, 20])"
      ]
     },
     "execution_count": 30,
     "metadata": {},
     "output_type": "execute_result"
    }
   ],
   "source": [
    "array[:]=20\n",
    "array"
   ]
  },
  {
   "cell_type": "code",
   "execution_count": null,
   "id": "dc405876",
   "metadata": {},
   "outputs": [],
   "source": []
  }
 ],
 "metadata": {
  "kernelspec": {
   "display_name": "Python 3 (ipykernel)",
   "language": "python",
   "name": "python3"
  },
  "language_info": {
   "codemirror_mode": {
    "name": "ipython",
    "version": 3
   },
   "file_extension": ".py",
   "mimetype": "text/x-python",
   "name": "python",
   "nbconvert_exporter": "python",
   "pygments_lexer": "ipython3",
   "version": "3.11.3"
  }
 },
 "nbformat": 4,
 "nbformat_minor": 5
}
